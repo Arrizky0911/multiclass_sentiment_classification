{
  "nbformat": 4,
  "nbformat_minor": 0,
  "metadata": {
    "colab": {
      "provenance": [],
      "gpuType": "T4"
    },
    "kernelspec": {
      "name": "python3",
      "display_name": "Python 3"
    },
    "language_info": {
      "name": "python"
    },
    "accelerator": "GPU"
  },
  "cells": [
    {
      "cell_type": "markdown",
      "source": [
        "# **Setup Environment**"
      ],
      "metadata": {
        "id": "5KFem3KoTAex"
      }
    },
    {
      "cell_type": "markdown",
      "source": [
        "Importing the libraries needed"
      ],
      "metadata": {
        "id": "oZGz_D97THm6"
      }
    },
    {
      "cell_type": "code",
      "execution_count": 19,
      "metadata": {
        "id": "X_Wl0pEh27Ma"
      },
      "outputs": [],
      "source": [
        "import pandas as pd\n",
        "import numpy as np\n",
        "import torch\n",
        "import transformers\n",
        "import torch.nn as nn\n",
        "from torch.nn import functional as F\n",
        "from torch.utils.data import Dataset, DataLoader\n",
        "from transformers import DistilBertModel, DistilBertTokenizer\n",
        "from sklearn.utils.class_weight import compute_class_weight\n",
        "from sklearn.model_selection import KFold\n",
        "from sklearn.metrics import precision_recall_fscore_support, confusion_matrix, accuracy_score, balanced_accuracy_score\n",
        "import matplotlib.pyplot as plt\n",
        "%matplotlib inline"
      ]
    },
    {
      "cell_type": "markdown",
      "source": [
        "Setting up the device for training model"
      ],
      "metadata": {
        "id": "DBcPW7bxTT6s"
      }
    },
    {
      "cell_type": "code",
      "source": [
        "from torch import cuda\n",
        "device = 'cuda' if cuda.is_available() else 'cpu'\n",
        "print(device)"
      ],
      "metadata": {
        "colab": {
          "base_uri": "https://localhost:8080/"
        },
        "id": "KTJKVq573s86",
        "outputId": "c8c29ebb-7282-47be-c8d2-a4fa37a0a1f5"
      },
      "execution_count": 3,
      "outputs": [
        {
          "output_type": "stream",
          "name": "stdout",
          "text": [
            "cuda\n"
          ]
        }
      ]
    },
    {
      "cell_type": "markdown",
      "source": [
        "load dataset"
      ],
      "metadata": {
        "id": "L0hkgOY6TZ9w"
      }
    },
    {
      "cell_type": "code",
      "source": [
        "# Load the Drive helper and mount\n",
        "from google.colab import drive\n",
        "from pathlib import Path\n",
        "\n",
        "data = Path('/content/drive/My Drive/BDC2024')\n",
        "\n",
        "# This will prompt for authorization.\n",
        "drive.mount('/content/drive')"
      ],
      "metadata": {
        "id": "MhEG-rkG37L4"
      },
      "execution_count": null,
      "outputs": []
    },
    {
      "cell_type": "code",
      "source": [
        "dataset = pd.read_csv(data/\"dataset_penyisihan_bdc_2024(in).csv\", sep=\";\")\n",
        "dataset.columns = ['text', 'label']\n",
        "dataset.info()\n",
        "dataset.head()"
      ],
      "metadata": {
        "colab": {
          "base_uri": "https://localhost:8080/",
          "height": 362
        },
        "id": "lRmAs6mwiUNx",
        "outputId": "b57afccd-9d7f-47ab-e749-c61415262cc7"
      },
      "execution_count": 6,
      "outputs": [
        {
          "output_type": "stream",
          "name": "stdout",
          "text": [
            "<class 'pandas.core.frame.DataFrame'>\n",
            "RangeIndex: 5000 entries, 0 to 4999\n",
            "Data columns (total 2 columns):\n",
            " #   Column  Non-Null Count  Dtype \n",
            "---  ------  --------------  ----- \n",
            " 0   text    5000 non-null   object\n",
            " 1   label   5000 non-null   object\n",
            "dtypes: object(2)\n",
            "memory usage: 78.3+ KB\n"
          ]
        },
        {
          "output_type": "execute_result",
          "data": {
            "text/plain": [
              "                                                text             label\n",
              "0  Kunjungan Prabowo ini untuk meresmikan dan men...  Sumber Daya Alam\n",
              "1  RT Anies dapat tepuk tangan meriah saat jadi R...           Politik\n",
              "2  @CIqXqwGAT04tMtx4OCATxjoVq7vv/Y8HeYaIOgMFg8Y= ...         Demografi\n",
              "3  RT @L3R8XFBw3WGbxRPSj0/0hHZTbqVGX7qtfwRg9zmhK7...           Politik\n",
              "4  Anies Baswedan Harap ASN termasuk TNI dan Polr...           Politik"
            ],
            "text/html": [
              "\n",
              "  <div id=\"df-ea082097-b125-4a03-891f-743ee271722f\" class=\"colab-df-container\">\n",
              "    <div>\n",
              "<style scoped>\n",
              "    .dataframe tbody tr th:only-of-type {\n",
              "        vertical-align: middle;\n",
              "    }\n",
              "\n",
              "    .dataframe tbody tr th {\n",
              "        vertical-align: top;\n",
              "    }\n",
              "\n",
              "    .dataframe thead th {\n",
              "        text-align: right;\n",
              "    }\n",
              "</style>\n",
              "<table border=\"1\" class=\"dataframe\">\n",
              "  <thead>\n",
              "    <tr style=\"text-align: right;\">\n",
              "      <th></th>\n",
              "      <th>text</th>\n",
              "      <th>label</th>\n",
              "    </tr>\n",
              "  </thead>\n",
              "  <tbody>\n",
              "    <tr>\n",
              "      <th>0</th>\n",
              "      <td>Kunjungan Prabowo ini untuk meresmikan dan men...</td>\n",
              "      <td>Sumber Daya Alam</td>\n",
              "    </tr>\n",
              "    <tr>\n",
              "      <th>1</th>\n",
              "      <td>RT Anies dapat tepuk tangan meriah saat jadi R...</td>\n",
              "      <td>Politik</td>\n",
              "    </tr>\n",
              "    <tr>\n",
              "      <th>2</th>\n",
              "      <td>@CIqXqwGAT04tMtx4OCATxjoVq7vv/Y8HeYaIOgMFg8Y= ...</td>\n",
              "      <td>Demografi</td>\n",
              "    </tr>\n",
              "    <tr>\n",
              "      <th>3</th>\n",
              "      <td>RT @L3R8XFBw3WGbxRPSj0/0hHZTbqVGX7qtfwRg9zmhK7...</td>\n",
              "      <td>Politik</td>\n",
              "    </tr>\n",
              "    <tr>\n",
              "      <th>4</th>\n",
              "      <td>Anies Baswedan Harap ASN termasuk TNI dan Polr...</td>\n",
              "      <td>Politik</td>\n",
              "    </tr>\n",
              "  </tbody>\n",
              "</table>\n",
              "</div>\n",
              "    <div class=\"colab-df-buttons\">\n",
              "\n",
              "  <div class=\"colab-df-container\">\n",
              "    <button class=\"colab-df-convert\" onclick=\"convertToInteractive('df-ea082097-b125-4a03-891f-743ee271722f')\"\n",
              "            title=\"Convert this dataframe to an interactive table.\"\n",
              "            style=\"display:none;\">\n",
              "\n",
              "  <svg xmlns=\"http://www.w3.org/2000/svg\" height=\"24px\" viewBox=\"0 -960 960 960\">\n",
              "    <path d=\"M120-120v-720h720v720H120Zm60-500h600v-160H180v160Zm220 220h160v-160H400v160Zm0 220h160v-160H400v160ZM180-400h160v-160H180v160Zm440 0h160v-160H620v160ZM180-180h160v-160H180v160Zm440 0h160v-160H620v160Z\"/>\n",
              "  </svg>\n",
              "    </button>\n",
              "\n",
              "  <style>\n",
              "    .colab-df-container {\n",
              "      display:flex;\n",
              "      gap: 12px;\n",
              "    }\n",
              "\n",
              "    .colab-df-convert {\n",
              "      background-color: #E8F0FE;\n",
              "      border: none;\n",
              "      border-radius: 50%;\n",
              "      cursor: pointer;\n",
              "      display: none;\n",
              "      fill: #1967D2;\n",
              "      height: 32px;\n",
              "      padding: 0 0 0 0;\n",
              "      width: 32px;\n",
              "    }\n",
              "\n",
              "    .colab-df-convert:hover {\n",
              "      background-color: #E2EBFA;\n",
              "      box-shadow: 0px 1px 2px rgba(60, 64, 67, 0.3), 0px 1px 3px 1px rgba(60, 64, 67, 0.15);\n",
              "      fill: #174EA6;\n",
              "    }\n",
              "\n",
              "    .colab-df-buttons div {\n",
              "      margin-bottom: 4px;\n",
              "    }\n",
              "\n",
              "    [theme=dark] .colab-df-convert {\n",
              "      background-color: #3B4455;\n",
              "      fill: #D2E3FC;\n",
              "    }\n",
              "\n",
              "    [theme=dark] .colab-df-convert:hover {\n",
              "      background-color: #434B5C;\n",
              "      box-shadow: 0px 1px 3px 1px rgba(0, 0, 0, 0.15);\n",
              "      filter: drop-shadow(0px 1px 2px rgba(0, 0, 0, 0.3));\n",
              "      fill: #FFFFFF;\n",
              "    }\n",
              "  </style>\n",
              "\n",
              "    <script>\n",
              "      const buttonEl =\n",
              "        document.querySelector('#df-ea082097-b125-4a03-891f-743ee271722f button.colab-df-convert');\n",
              "      buttonEl.style.display =\n",
              "        google.colab.kernel.accessAllowed ? 'block' : 'none';\n",
              "\n",
              "      async function convertToInteractive(key) {\n",
              "        const element = document.querySelector('#df-ea082097-b125-4a03-891f-743ee271722f');\n",
              "        const dataTable =\n",
              "          await google.colab.kernel.invokeFunction('convertToInteractive',\n",
              "                                                    [key], {});\n",
              "        if (!dataTable) return;\n",
              "\n",
              "        const docLinkHtml = 'Like what you see? Visit the ' +\n",
              "          '<a target=\"_blank\" href=https://colab.research.google.com/notebooks/data_table.ipynb>data table notebook</a>'\n",
              "          + ' to learn more about interactive tables.';\n",
              "        element.innerHTML = '';\n",
              "        dataTable['output_type'] = 'display_data';\n",
              "        await google.colab.output.renderOutput(dataTable, element);\n",
              "        const docLink = document.createElement('div');\n",
              "        docLink.innerHTML = docLinkHtml;\n",
              "        element.appendChild(docLink);\n",
              "      }\n",
              "    </script>\n",
              "  </div>\n",
              "\n",
              "\n",
              "<div id=\"df-3a74cf95-cc17-47b9-a701-1cdb49ec2170\">\n",
              "  <button class=\"colab-df-quickchart\" onclick=\"quickchart('df-3a74cf95-cc17-47b9-a701-1cdb49ec2170')\"\n",
              "            title=\"Suggest charts\"\n",
              "            style=\"display:none;\">\n",
              "\n",
              "<svg xmlns=\"http://www.w3.org/2000/svg\" height=\"24px\"viewBox=\"0 0 24 24\"\n",
              "     width=\"24px\">\n",
              "    <g>\n",
              "        <path d=\"M19 3H5c-1.1 0-2 .9-2 2v14c0 1.1.9 2 2 2h14c1.1 0 2-.9 2-2V5c0-1.1-.9-2-2-2zM9 17H7v-7h2v7zm4 0h-2V7h2v10zm4 0h-2v-4h2v4z\"/>\n",
              "    </g>\n",
              "</svg>\n",
              "  </button>\n",
              "\n",
              "<style>\n",
              "  .colab-df-quickchart {\n",
              "      --bg-color: #E8F0FE;\n",
              "      --fill-color: #1967D2;\n",
              "      --hover-bg-color: #E2EBFA;\n",
              "      --hover-fill-color: #174EA6;\n",
              "      --disabled-fill-color: #AAA;\n",
              "      --disabled-bg-color: #DDD;\n",
              "  }\n",
              "\n",
              "  [theme=dark] .colab-df-quickchart {\n",
              "      --bg-color: #3B4455;\n",
              "      --fill-color: #D2E3FC;\n",
              "      --hover-bg-color: #434B5C;\n",
              "      --hover-fill-color: #FFFFFF;\n",
              "      --disabled-bg-color: #3B4455;\n",
              "      --disabled-fill-color: #666;\n",
              "  }\n",
              "\n",
              "  .colab-df-quickchart {\n",
              "    background-color: var(--bg-color);\n",
              "    border: none;\n",
              "    border-radius: 50%;\n",
              "    cursor: pointer;\n",
              "    display: none;\n",
              "    fill: var(--fill-color);\n",
              "    height: 32px;\n",
              "    padding: 0;\n",
              "    width: 32px;\n",
              "  }\n",
              "\n",
              "  .colab-df-quickchart:hover {\n",
              "    background-color: var(--hover-bg-color);\n",
              "    box-shadow: 0 1px 2px rgba(60, 64, 67, 0.3), 0 1px 3px 1px rgba(60, 64, 67, 0.15);\n",
              "    fill: var(--button-hover-fill-color);\n",
              "  }\n",
              "\n",
              "  .colab-df-quickchart-complete:disabled,\n",
              "  .colab-df-quickchart-complete:disabled:hover {\n",
              "    background-color: var(--disabled-bg-color);\n",
              "    fill: var(--disabled-fill-color);\n",
              "    box-shadow: none;\n",
              "  }\n",
              "\n",
              "  .colab-df-spinner {\n",
              "    border: 2px solid var(--fill-color);\n",
              "    border-color: transparent;\n",
              "    border-bottom-color: var(--fill-color);\n",
              "    animation:\n",
              "      spin 1s steps(1) infinite;\n",
              "  }\n",
              "\n",
              "  @keyframes spin {\n",
              "    0% {\n",
              "      border-color: transparent;\n",
              "      border-bottom-color: var(--fill-color);\n",
              "      border-left-color: var(--fill-color);\n",
              "    }\n",
              "    20% {\n",
              "      border-color: transparent;\n",
              "      border-left-color: var(--fill-color);\n",
              "      border-top-color: var(--fill-color);\n",
              "    }\n",
              "    30% {\n",
              "      border-color: transparent;\n",
              "      border-left-color: var(--fill-color);\n",
              "      border-top-color: var(--fill-color);\n",
              "      border-right-color: var(--fill-color);\n",
              "    }\n",
              "    40% {\n",
              "      border-color: transparent;\n",
              "      border-right-color: var(--fill-color);\n",
              "      border-top-color: var(--fill-color);\n",
              "    }\n",
              "    60% {\n",
              "      border-color: transparent;\n",
              "      border-right-color: var(--fill-color);\n",
              "    }\n",
              "    80% {\n",
              "      border-color: transparent;\n",
              "      border-right-color: var(--fill-color);\n",
              "      border-bottom-color: var(--fill-color);\n",
              "    }\n",
              "    90% {\n",
              "      border-color: transparent;\n",
              "      border-bottom-color: var(--fill-color);\n",
              "    }\n",
              "  }\n",
              "</style>\n",
              "\n",
              "  <script>\n",
              "    async function quickchart(key) {\n",
              "      const quickchartButtonEl =\n",
              "        document.querySelector('#' + key + ' button');\n",
              "      quickchartButtonEl.disabled = true;  // To prevent multiple clicks.\n",
              "      quickchartButtonEl.classList.add('colab-df-spinner');\n",
              "      try {\n",
              "        const charts = await google.colab.kernel.invokeFunction(\n",
              "            'suggestCharts', [key], {});\n",
              "      } catch (error) {\n",
              "        console.error('Error during call to suggestCharts:', error);\n",
              "      }\n",
              "      quickchartButtonEl.classList.remove('colab-df-spinner');\n",
              "      quickchartButtonEl.classList.add('colab-df-quickchart-complete');\n",
              "    }\n",
              "    (() => {\n",
              "      let quickchartButtonEl =\n",
              "        document.querySelector('#df-3a74cf95-cc17-47b9-a701-1cdb49ec2170 button');\n",
              "      quickchartButtonEl.style.display =\n",
              "        google.colab.kernel.accessAllowed ? 'block' : 'none';\n",
              "    })();\n",
              "  </script>\n",
              "</div>\n",
              "\n",
              "    </div>\n",
              "  </div>\n"
            ],
            "application/vnd.google.colaboratory.intrinsic+json": {
              "type": "dataframe",
              "variable_name": "dataset",
              "summary": "{\n  \"name\": \"dataset\",\n  \"rows\": 5000,\n  \"fields\": [\n    {\n      \"column\": \"text\",\n      \"properties\": {\n        \"dtype\": \"string\",\n        \"num_unique_values\": 4583,\n        \"samples\": [\n          \"Ganjar Mahfud menunjukkan bahwa mereka serius dalam mendukung perempuan dengan melibatkan diri secara nyata dalam program seperti Kartini Maju. @W+3RHD0a+6K5mzRfaMgZBdcTKzheH4kYohG4j+XoENM= #GanjarMahfud2024 #3MandatGanjarMahfud #L3bihbaik https://t.co/JWWTEO8zji\",\n          \"RT Setelah Anies nyapres: \\u00c3\\u00a2\\u00c2\\u0153 ABB mau nyoblos setelah sebelumnya anti-demokrasi \\u00c3\\u00a2\\u00c2\\u0153 HRS mau menghargai pilihan orang lain Mereka pilih 01 bukan karena menguntungkan kelompoknya, tp karena 01 menjanjikan kesetaraan hak untuk semua, asal sesuai dg hukum Itu fair bagi mereka, dan kita. [RE felladinho27]\",\n          \"Wowo tetap bebas rakyat tetap geram Bukti kekejaman wowo terhadap kemanusiaan terus terungkap MasBOWOGBran PilihanKITA Asal Bukan Prabowo #MakinBanyakYg02 #KampanyeKreatif155 https://t.co/8Yr8FeDXpK\"\n        ],\n        \"semantic_type\": \"\",\n        \"description\": \"\"\n      }\n    },\n    {\n      \"column\": \"label\",\n      \"properties\": {\n        \"dtype\": \"category\",\n        \"num_unique_values\": 8,\n        \"samples\": [\n          \"Politik\",\n          \"Ekonomi\",\n          \"Sumber Daya Alam\"\n        ],\n        \"semantic_type\": \"\",\n        \"description\": \"\"\n      }\n    }\n  ]\n}"
            }
          },
          "metadata": {},
          "execution_count": 6
        }
      ]
    },
    {
      "cell_type": "code",
      "source": [
        "dataset['label'].value_counts().plot(kind='bar')\n",
        "plt.show()"
      ],
      "metadata": {
        "colab": {
          "base_uri": "https://localhost:8080/",
          "height": 624
        },
        "id": "J3DuKftriu4B",
        "outputId": "6a844a21-dc3e-4460-cf24-c924368e05c3"
      },
      "execution_count": 7,
      "outputs": [
        {
          "output_type": "display_data",
          "data": {
            "text/plain": [
              "<Figure size 640x480 with 1 Axes>"
            ],
            "image/png": "[encoded data removed]"
          },
          "metadata": {}
        }
      ]
    },
    {
      "cell_type": "markdown",
      "metadata": {
        "id": "Ng95Uj4l4GhV"
      },
      "source": [
        "# **Preprocessing The Data**"
      ]
    },
    {
      "cell_type": "markdown",
      "metadata": {
        "id": "PxWu23124NEa"
      },
      "source": [
        "Encode the label category"
      ]
    },
    {
      "cell_type": "code",
      "execution_count": 8,
      "metadata": {
        "id": "2aA398qY4A6h"
      },
      "outputs": [],
      "source": [
        "label_mapping = {\"Politik\": 0, \"Sosial Budaya\": 1, \"Pertahanan dan Keamanan\": 2, \"Ideologi\": 3, \"Ekonomi\": 4, \"Sumber Daya Alam\": 5, \"Demografi\": 6, \"Geografi\": 7,}\n",
        "dataset['encode_label'] = dataset['label'].map(label_mapping)"
      ]
    },
    {
      "cell_type": "markdown",
      "metadata": {
        "id": "ub4VlGTz4Qps"
      },
      "source": [
        "Cleaning the text"
      ]
    },
    {
      "cell_type": "code",
      "execution_count": 9,
      "metadata": {
        "id": "EJ_Ye2dTwvgG"
      },
      "outputs": [],
      "source": [
        "import re\n",
        "import string\n",
        "\n",
        "def clean_text(text):\n",
        "    text = text.lower() # Convert to lowercase\n",
        "    text = re.sub(r'http\\S+|www\\S+|https\\S+', '', text, flags=re.MULTILINE) # Remove URLs\n",
        "    text = re.sub(r'\\S*@\\S*\\s?', '', text) # Remove email addresses\n",
        "    text = re.sub(r'\\S*=\\S*', '', text) # Remove text that contains an equal sign like picture\n",
        "    text = re.sub(r'rt\\b', '', text) # Remove the word 'rt' for retweet\n",
        "    text = re.sub(r'[^a-zA-Z0-9\\s]', '', text) # Remove special characters (non-alphanumeric characters)\n",
        "    text = text.translate(str.maketrans('', '', string.punctuation)) # Remove punctuation\n",
        "    text = re.sub(r'\\s+', ' ', text).strip() # Remove extra spaces\n",
        "\n",
        "    return text"
      ]
    },
    {
      "cell_type": "code",
      "execution_count": 10,
      "metadata": {
        "colab": {
          "base_uri": "https://localhost:8080/"
        },
        "id": "3yCpjB0VxlSJ",
        "outputId": "999adc5c-7d57-4830-ce5a-29dcecb56544"
      },
      "outputs": [
        {
          "output_type": "stream",
          "name": "stdout",
          "text": [
            "0     Kunjungan Prabowo ini untuk meresmikan dan men...\n",
            "1     RT Anies dapat tepuk tangan meriah saat jadi R...\n",
            "2     @CIqXqwGAT04tMtx4OCATxjoVq7vv/Y8HeYaIOgMFg8Y= ...\n",
            "3     RT @L3R8XFBw3WGbxRPSj0/0hHZTbqVGX7qtfwRg9zmhK7...\n",
            "4     Anies Baswedan Harap ASN termasuk TNI dan Polr...\n",
            "5     RT Duh jangan sampai Pak lurah denger nih Ã°ÂŸ...\n",
            "6     Prabowo minta Kemenhan dan Tim Satgas Air Unha...\n",
            "7     RT Anies: Ya Allah Sibukkanlah Orang Zalim Aga...\n",
            "8     RT Abah @znOMP7ZMVU9dMuMNA/cIazC9q5+hgwVkTsQNd...\n",
            "9     RT Bawaslu dimaki \"JANCUK\" sama warga garaÃ‚Â²...\n",
            "10    RT Beberapa isu basi terkait @hs5jZceksZrPM0Ni...\n",
            "11    RT Ganjar Pranowo-Mahfud MD menekankan penting...\n",
            "12    RT Calon presiden (capres) nomor urut 1 Anies ...\n",
            "13    Capres Ganjar Pranowo punya rencana besar! Dia...\n",
            "14    @YcALzIavlM9mN2WtCz3omAmFsnJU8aBm4seMBHJD2vc= ...\n",
            "Name: text, dtype: object\n",
            "0     kunjungan prabowo ini untuk meresmikan dan men...\n",
            "1     anies dapat tepuk tangan meriah saat jadi rekt...\n",
            "2     emng bener sih pendukung 01 ada yg goblok begi...\n",
            "3     sewaktu anies bersikap kritis ke kinerja pak p...\n",
            "4     anies baswedan harap asn termasuk tni dan polr...\n",
            "5     duh jangan sampai pak lurah denger nih di acar...\n",
            "6     prabowo minta kemenhan dan tim satgas air unha...\n",
            "7     anies ya allah sibukkanlah orang zalim agar da...\n",
            "8     abah itu bapa kami bapa yg berikan perhatian u...\n",
            "9     bawaslu dimaki jancuk sama warga gara mencopot...\n",
            "10    beberapa isu basi terkait dan fakta sebenarnya...\n",
            "11    ganjar pranowomahfud md menekankan pentingnya ...\n",
            "12    calon presiden capres nomor urut 1 anies baswe...\n",
            "13    capres ganjar pranowo punya rencana besar dia ...\n",
            "14    dengan pendapatan apbd jumbo paling besar sein...\n",
            "Name: clean_text, dtype: object\n"
          ]
        }
      ],
      "source": [
        "dataset['clean_text'] = dataset['text'].apply(clean_text)\n",
        "\n",
        "print(dataset['text'].head(15))\n",
        "print(dataset['clean_text'].head(15))"
      ]
    },
    {
      "cell_type": "markdown",
      "metadata": {
        "id": "B1ET46PG4pVv"
      },
      "source": [
        "Defining some key variables that will be used later on in the training"
      ]
    },
    {
      "cell_type": "code",
      "execution_count": 63,
      "metadata": {
        "id": "438C5Xm06T0B"
      },
      "outputs": [],
      "source": [
        "MAX_LEN = 512\n",
        "TRAIN_BATCH_SIZE = 16\n",
        "VALID_BATCH_SIZE = 2\n",
        "LEARNING_RATE = 1e-05\n",
        "tokenizer = DistilBertTokenizer.from_pretrained('cahya/distilbert-base-indonesian')"
      ]
    },
    {
      "cell_type": "markdown",
      "metadata": {
        "id": "1qny_IdZ4tl6"
      },
      "source": [
        "Transform the cleaned text dataset"
      ]
    },
    {
      "cell_type": "code",
      "execution_count": 29,
      "metadata": {
        "id": "-EIE1J5X6sEu"
      },
      "outputs": [],
      "source": [
        "class TweetsDataset(Dataset):\n",
        "    def __init__(self, dataframe, tokenizer, max_len, predict = False):\n",
        "        self.len = len(dataframe)\n",
        "        self.data = dataframe\n",
        "        self.tokenizer = tokenizer\n",
        "        self.max_len = max_len\n",
        "        self.predict = predict\n",
        "\n",
        "    def __getitem__(self, index):\n",
        "        title = str(self.data.clean_text[index])\n",
        "        title = \" \".join(title.split())\n",
        "        inputs = self.tokenizer.encode_plus(\n",
        "            title,\n",
        "            None,\n",
        "            add_special_tokens=True,\n",
        "            max_length=self.max_len,\n",
        "            pad_to_max_length=True,\n",
        "            return_token_type_ids=True,\n",
        "            truncation=True\n",
        "        )\n",
        "        ids = inputs['input_ids']\n",
        "        mask = inputs['attention_mask']\n",
        "        if self.predict:\n",
        "          return {\n",
        "            'ids': torch.tensor(ids, dtype=torch.long),\n",
        "            'mask': torch.tensor(mask, dtype=torch.long),\n",
        "          }\n",
        "        else:\n",
        "          return {\n",
        "              'ids': torch.tensor(ids, dtype=torch.long),\n",
        "              'mask': torch.tensor(mask, dtype=torch.long),\n",
        "              'targets': torch.tensor(self.data.encode_label[index], dtype=torch.long)\n",
        "          }\n",
        "\n",
        "\n",
        "    def __len__(self):\n",
        "        return self.len"
      ]
    },
    {
      "cell_type": "code",
      "execution_count": 30,
      "metadata": {
        "colab": {
          "base_uri": "https://localhost:8080/"
        },
        "id": "CclpHPni63ha",
        "outputId": "7363f9d6-4ee9-4231-9478-3395bebab122"
      },
      "outputs": [
        {
          "output_type": "stream",
          "name": "stdout",
          "text": [
            "encode_label\n",
            "0    2383\n",
            "1     467\n",
            "3     320\n",
            "2     319\n",
            "4     301\n",
            "5     155\n",
            "6      41\n",
            "7      14\n",
            "Name: count, dtype: int64\n",
            "encode_label\n",
            "0    589\n",
            "1    120\n",
            "2     81\n",
            "3     80\n",
            "4     66\n",
            "5     37\n",
            "6     21\n",
            "7      6\n",
            "Name: count, dtype: int64\n",
            "FULL Dataset: (5000, 4)\n",
            "TRAIN Dataset: (4000, 4)\n",
            "TEST Dataset: (1000, 4)\n"
          ]
        }
      ],
      "source": [
        "train_dataset = dataset.sample(frac=0.8,random_state=200)\n",
        "test_dataset = dataset.drop(train_dataset.index).reset_index(drop=True)\n",
        "train_dataset = train_dataset.reset_index(drop=True)\n",
        "\n",
        "print(train_dataset.encode_label.value_counts())\n",
        "print(test_dataset.encode_label.value_counts())\n",
        "\n",
        "\n",
        "print(\"FULL Dataset: {}\".format(dataset.shape))\n",
        "print(\"TRAIN Dataset: {}\".format(train_dataset.shape))\n",
        "print(\"TEST Dataset: {}\".format(test_dataset.shape))\n",
        "\n",
        "training_set = TweetsDataset(train_dataset, tokenizer, MAX_LEN)\n",
        "testing_set = TweetsDataset(test_dataset, tokenizer, MAX_LEN)"
      ]
    },
    {
      "cell_type": "code",
      "execution_count": 64,
      "metadata": {
        "id": "RVeoR7DO7D-Z"
      },
      "outputs": [],
      "source": [
        "training_loader = DataLoader(training_set, batch_size=TRAIN_BATCH_SIZE, shuffle=True)\n",
        "testing_loader = DataLoader(testing_set, batch_size=VALID_BATCH_SIZE, shuffle=False)"
      ]
    },
    {
      "cell_type": "code",
      "source": [
        "class DistillBERTClass(torch.nn.Module):\n",
        "    def __init__(self):\n",
        "        super(DistillBERTClass, self).__init__()\n",
        "        self.enc = DistilBertModel.from_pretrained(\"cahya/distilbert-base-indonesian\")\n",
        "        self.linear = nn.Linear(768, 768)\n",
        "        self.dropout = torch.nn.Dropout(0.3)\n",
        "        self.cls = nn.Linear(768, 8)\n",
        "\n",
        "    def forward(self, input_ids, attention_mask):\n",
        "        output = self.enc(input_ids=input_ids, attention_mask=attention_mask)\n",
        "        hidden_state = output[0]\n",
        "        x = hidden_state[:, 0]\n",
        "        x = F.relu(self.linear(x))\n",
        "        x = self.dropout(x)\n",
        "        x = self.cls(x)\n",
        "        return x"
      ],
      "metadata": {
        "id": "VfCxyBBRWESU"
      },
      "execution_count": 65,
      "outputs": []
    },
    {
      "cell_type": "code",
      "source": [
        "model = DistillBERTClass()\n",
        "model.to(device)\n",
        "\n",
        "loss_function = torch.nn.CrossEntropyLoss()\n",
        "optimizer = torch.optim.AdamW(params=model.parameters(), lr=LEARNING_RATE)"
      ],
      "metadata": {
        "id": "-xAnGT1C7SF4"
      },
      "execution_count": 66,
      "outputs": []
    },
    {
      "cell_type": "code",
      "source": [
        "def calcuate_accu(big_idx, targets):\n",
        "    n_correct = (big_idx==targets).sum().item()\n",
        "    return n_correct"
      ],
      "metadata": {
        "id": "IxsABpJv7mzc"
      },
      "execution_count": 67,
      "outputs": []
    },
    {
      "cell_type": "code",
      "source": [
        "def train(epoch):\n",
        "    tr_loss = 0\n",
        "    n_correct = 0\n",
        "    nb_tr_steps = 0\n",
        "    nb_tr_examples = 0\n",
        "    model.train()\n",
        "    for _,data in enumerate(training_loader, 0):\n",
        "        ids = data['ids'].to(device, dtype = torch.long)\n",
        "        mask = data['mask'].to(device, dtype = torch.long)\n",
        "        targets = data['targets'].to(device, dtype = torch.long)\n",
        "\n",
        "        outputs = model(ids, mask)\n",
        "        loss = loss_function(outputs, targets)\n",
        "        tr_loss += loss.item()\n",
        "        big_val, big_idx = torch.max(outputs.data, dim=1)\n",
        "        n_correct += calcuate_accu(big_idx, targets)\n",
        "\n",
        "        nb_tr_steps += 1\n",
        "        nb_tr_examples+=targets.size(0)\n",
        "\n",
        "        optimizer.zero_grad()\n",
        "        loss.backward()\n",
        "        optimizer.step()\n",
        "\n",
        "    epoch_loss = tr_loss/nb_tr_steps\n",
        "    epoch_accu = (n_correct*100)/nb_tr_examples\n",
        "    print(f\"Training Loss Epoch {epoch}: {epoch_loss}\")\n",
        "    print(f\"Training Accuracy Epoch {epoch}: {epoch_accu} \\n\")\n",
        "\n",
        "    return"
      ],
      "metadata": {
        "id": "_0Lnwed67tsd"
      },
      "execution_count": 68,
      "outputs": []
    },
    {
      "cell_type": "code",
      "source": [
        "for epoch in range(15):\n",
        "    train(epoch)"
      ],
      "metadata": {
        "colab": {
          "base_uri": "https://localhost:8080/"
        },
        "id": "5XhxMiur7x5l",
        "outputId": "3fcb7389-5300-4917-e672-8aa6ef207b87"
      },
      "execution_count": 69,
      "outputs": [
        {
          "output_type": "stream",
          "name": "stdout",
          "text": [
            "Training Loss Epoch 0: 1.1405655380487443\n",
            "Training Accuracy Epoch 0: 64.6 \n",
            "\n",
            "Training Loss Epoch 1: 0.7108951876163483\n",
            "Training Accuracy Epoch 1: 78.55 \n",
            "\n",
            "Training Loss Epoch 2: 0.528333651304245\n",
            "Training Accuracy Epoch 2: 84.175 \n",
            "\n",
            "Training Loss Epoch 3: 0.40722960713505746\n",
            "Training Accuracy Epoch 3: 88.0 \n",
            "\n",
            "Training Loss Epoch 4: 0.3061951403468847\n",
            "Training Accuracy Epoch 4: 91.275 \n",
            "\n",
            "Training Loss Epoch 5: 0.23578509040176868\n",
            "Training Accuracy Epoch 5: 92.7 \n",
            "\n",
            "Training Loss Epoch 6: 0.17534739869832994\n",
            "Training Accuracy Epoch 6: 94.7 \n",
            "\n",
            "Training Loss Epoch 7: 0.13586555146425963\n",
            "Training Accuracy Epoch 7: 96.275 \n",
            "\n",
            "Training Loss Epoch 8: 0.11256144639104605\n",
            "Training Accuracy Epoch 8: 96.8 \n",
            "\n",
            "Training Loss Epoch 9: 0.09846538552641869\n",
            "Training Accuracy Epoch 9: 97.375 \n",
            "\n",
            "Training Loss Epoch 10: 0.0895618155580014\n",
            "Training Accuracy Epoch 10: 97.35 \n",
            "\n",
            "Training Loss Epoch 11: 0.08958546887524425\n",
            "Training Accuracy Epoch 11: 97.125 \n",
            "\n",
            "Training Loss Epoch 12: 0.07340672509185969\n",
            "Training Accuracy Epoch 12: 97.6 \n",
            "\n",
            "Training Loss Epoch 13: 0.06720751957036555\n",
            "Training Accuracy Epoch 13: 97.825 \n",
            "\n",
            "Training Loss Epoch 14: 0.06571157807298005\n",
            "Training Accuracy Epoch 14: 97.85 \n",
            "\n"
          ]
        }
      ]
    },
    {
      "cell_type": "code",
      "source": [
        "model.eval()\n",
        "n_correct = 0; n_wrong = 0; total = 0; tr_loss = 0;\n",
        "nb_tr_steps = 0\n",
        "nb_tr_examples = 0\n",
        "all_preds = []\n",
        "all_labels = []\n",
        "with torch.no_grad():\n",
        "    for _, data in enumerate(testing_loader, 0):\n",
        "        ids = data['ids'].to(device, dtype = torch.long)\n",
        "        mask = data['mask'].to(device, dtype = torch.long)\n",
        "        targets = data['targets'].to(device, dtype = torch.long)\n",
        "        outputs = model(ids, mask).squeeze()\n",
        "        loss = loss_function(outputs, targets)\n",
        "        tr_loss += loss.item()\n",
        "        big_val, big_idx = torch.max(outputs.data, dim=1)\n",
        "        n_correct += calcuate_accu(big_idx, targets)\n",
        "\n",
        "        nb_tr_steps += 1\n",
        "        nb_tr_examples+=targets.size(0)\n",
        "\n",
        "        all_preds.extend(big_idx.cpu().numpy())\n",
        "        all_labels.extend(targets.cpu().numpy())\n",
        "\n",
        "epoch_loss = tr_loss/nb_tr_steps\n",
        "epoch_accu = (n_correct*100)/nb_tr_examples\n",
        "\n",
        "all_preds = np.array(all_preds)\n",
        "all_labels = np.array(all_labels)\n",
        "\n",
        "accuracy = accuracy_score(all_labels, all_preds)\n",
        "precision, recall, f1, _ = precision_recall_fscore_support(all_labels, all_preds, average='weighted')\n",
        "cm = confusion_matrix(all_labels, all_preds)\n",
        "balanced_acc = balanced_accuracy_score(all_labels, all_preds)\n",
        "\n",
        "print(f\"Validation Loss Epoch: {epoch_loss}\")\n",
        "print(f\"Validation Accuracy Epoch: {epoch_accu}\")\n",
        "print(f\"Validation Precision: {precision}\")\n",
        "print(f\"Validation Recall: {recall}\")\n",
        "print(f\"Validation F1 Score: {f1}\\n\")\n",
        "print(f\"Balanced Accuracy: {balanced_acc}\")\n",
        "print(\"Confusion Matrix:\")\n",
        "print(cm)"
      ],
      "metadata": {
        "id": "vFd6YY1-BgaW",
        "colab": {
          "base_uri": "https://localhost:8080/"
        },
        "outputId": "7ec2b098-cfdb-4498-ee94-518c1d1e4ff6"
      },
      "execution_count": 70,
      "outputs": [
        {
          "output_type": "stream",
          "name": "stdout",
          "text": [
            "Validation Loss Epoch: 1.0607430696746452\n",
            "Validation Accuracy Epoch: 78.5\n",
            "Validation Precision: 0.7787153379850611\n",
            "Validation Recall: 0.785\n",
            "Validation F1 Score: 0.7791956930618327\n",
            "\n",
            "Balanced Accuracy: 0.5745060912514577\n",
            "Confusion Matrix:\n",
            "[[512  22  23   9  13   9   1   0]\n",
            " [ 29  77   1   4   2   4   2   1]\n",
            " [  9   1  67   2   0   1   1   0]\n",
            " [ 20   5   0  51   3   1   0   0]\n",
            " [ 10   3   0   0  48   5   0   0]\n",
            " [  9   2   0   0   0  26   0   0]\n",
            " [ 11   5   1   0   0   0   4   0]\n",
            " [  4   1   0   0   0   1   0   0]]\n"
          ]
        }
      ]
    }
  ]
}